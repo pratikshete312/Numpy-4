{
 "cells": [
  {
   "cell_type": "code",
   "execution_count": 1,
   "metadata": {},
   "outputs": [
    {
     "name": "stdout",
     "output_type": "stream",
     "text": [
      "[10 20  3  4  5]\n",
      "[1 2 3 4 5]\n"
     ]
    }
   ],
   "source": [
    "import numpy as np\n",
    "i=np.array([1,2,3,4,5])\n",
    "j=i.copy()\n",
    "i[0]=10\n",
    "i[1]=20\n",
    "print(i)\n",
    "print(j)"
   ]
  },
  {
   "cell_type": "code",
   "execution_count": 2,
   "metadata": {},
   "outputs": [
    {
     "name": "stdout",
     "output_type": "stream",
     "text": [
      "[10 20  3  4  5]\n",
      "[10 20  3  4  5]\n"
     ]
    }
   ],
   "source": [
    "import numpy as np \n",
    "i=np.array([1,2,3,4,5])\n",
    "j=i.view()\n",
    "i[0]=10\n",
    "j[1]=20\n",
    "print(i)\n",
    "print(j)"
   ]
  },
  {
   "cell_type": "code",
   "execution_count": 3,
   "metadata": {},
   "outputs": [
    {
     "name": "stdout",
     "output_type": "stream",
     "text": [
      "[10 20  3  4  5]\n",
      "[10 20  3  4  5]\n"
     ]
    }
   ],
   "source": [
    "import numpy as np\n",
    "i=np.array([1,2,3,4,5])\n",
    "j=i.view()\n",
    "j[0]=10\n",
    "j[1]=20\n",
    "print(i)\n",
    "print(j)"
   ]
  },
  {
   "cell_type": "code",
   "execution_count": 6,
   "metadata": {},
   "outputs": [
    {
     "name": "stdout",
     "output_type": "stream",
     "text": [
      "[10 20  3  4  5]\n",
      "[10 20  3  4  5]\n",
      "\n",
      "None\n",
      "[10 20  3  4  5]\n"
     ]
    }
   ],
   "source": [
    "import numpy as np\n",
    "i=np.array([1,2,3,4,5])\n",
    "j=i.view()\n",
    "i[0]=10\n",
    "j[1]=20\n",
    "print(i)\n",
    "print(j)\n",
    "print()\n",
    "print(i.base)\n",
    "print(j.base)"
   ]
  },
  {
   "cell_type": "code",
   "execution_count": 7,
   "metadata": {},
   "outputs": [
    {
     "name": "stdout",
     "output_type": "stream",
     "text": [
      "(5,)\n"
     ]
    }
   ],
   "source": [
    "import numpy as np\n",
    "i=np.array([1,2,3,4,5])\n",
    "print(i.shape)"
   ]
  },
  {
   "cell_type": "code",
   "execution_count": 8,
   "metadata": {},
   "outputs": [
    {
     "name": "stdout",
     "output_type": "stream",
     "text": [
      "(2, 5)\n"
     ]
    }
   ],
   "source": [
    "import numpy as np\n",
    "i = np.array([[10, 20, 30, 40, 50],\n",
    "               [60,70,80,90,100]])\n",
    "print(i.shape)"
   ]
  },
  {
   "cell_type": "code",
   "execution_count": 9,
   "metadata": {},
   "outputs": [
    {
     "name": "stdout",
     "output_type": "stream",
     "text": [
      "(2, 3, 5)\n"
     ]
    }
   ],
   "source": [
    "import numpy as np\n",
    "i = np.array([\n",
    "    [[10, 20, 30, 40, 50], [60,70,80,90,100],[60,70,80,90,100]],\n",
    "    [[10, 20, 30, 40, 50], [60,70,80,90,100],[60,70,80,90,100]]\n",
    "    ])\n",
    "print(i.shape)\n"
   ]
  },
  {
   "cell_type": "code",
   "execution_count": 10,
   "metadata": {},
   "outputs": [
    {
     "data": {
      "text/plain": [
       "array([[ 10,  20],\n",
       "       [ 30,  40],\n",
       "       [ 50,  60],\n",
       "       [ 70,  80],\n",
       "       [ 90, 100]])"
      ]
     },
     "execution_count": 10,
     "metadata": {},
     "output_type": "execute_result"
    }
   ],
   "source": [
    "import numpy as np\n",
    "i = np.array([10, 20, 30, 40, 50, 60, 70, 80, 90, 100])\n",
    "j = i.reshape(5,2)\n",
    "j"
   ]
  },
  {
   "cell_type": "code",
   "execution_count": 11,
   "metadata": {},
   "outputs": [
    {
     "data": {
      "text/plain": [
       "array([[ 10,  20,  30],\n",
       "       [ 40,  50,  60],\n",
       "       [ 70,  80,  90],\n",
       "       [100, 110, 120]])"
      ]
     },
     "execution_count": 11,
     "metadata": {},
     "output_type": "execute_result"
    }
   ],
   "source": [
    "import numpy as np\n",
    "i = np.array([10, 20, 30, 40, 50, 60, 70, 80, 90, 100, 110, 120])\n",
    "j = i.reshape(4,3)\n",
    "j"
   ]
  },
  {
   "cell_type": "code",
   "execution_count": 12,
   "metadata": {},
   "outputs": [
    {
     "data": {
      "text/plain": [
       "array([[[ 10,  20,  30,  40],\n",
       "        [ 50,  60,  70,  80]],\n",
       "\n",
       "       [[ 90, 100, 110, 120],\n",
       "        [130, 140, 150, 160]]])"
      ]
     },
     "execution_count": 12,
     "metadata": {},
     "output_type": "execute_result"
    }
   ],
   "source": [
    "i = np.array([10, 20, 30, 40, 50, 60, 70, 80, 90, 100, 110, 120,\n",
    "130, 140,150, 160])\n",
    "j = i.reshape(2,2,4)\n",
    "j"
   ]
  },
  {
   "cell_type": "code",
   "execution_count": 13,
   "metadata": {},
   "outputs": [
    {
     "data": {
      "text/plain": [
       "array([[[ 10,  20],\n",
       "        [ 30,  40],\n",
       "        [ 50,  60],\n",
       "        [ 70,  80]],\n",
       "\n",
       "       [[ 90, 100],\n",
       "        [110, 120],\n",
       "        [130, 140],\n",
       "        [150, 160]]])"
      ]
     },
     "execution_count": 13,
     "metadata": {},
     "output_type": "execute_result"
    }
   ],
   "source": [
    "import numpy as np\n",
    "i = np.array([10, 20, 30, 40, 50, 60, 70, 80, 90, 100, 110, 120,\n",
    "130, 140,150, 160])\n",
    "j = i.reshape(2,4,2)\n",
    "j"
   ]
  },
  {
   "cell_type": "code",
   "execution_count": 14,
   "metadata": {},
   "outputs": [
    {
     "data": {
      "text/plain": [
       "array([[[ 10,  20],\n",
       "        [ 30,  40],\n",
       "        [ 50,  60],\n",
       "        [ 70,  80]],\n",
       "\n",
       "       [[ 90, 100],\n",
       "        [110, 120],\n",
       "        [130, 140],\n",
       "        [150, 160]]])"
      ]
     },
     "execution_count": 14,
     "metadata": {},
     "output_type": "execute_result"
    }
   ],
   "source": [
    "import numpy as np\n",
    "i = np.array([10, 20, 30, 40, 50, 60, 70, 80, 90, 100, 110, 120,\n",
    "130, 140,150,160])\n",
    "j = i.reshape(2,4,-1)\n",
    "j"
   ]
  },
  {
   "cell_type": "code",
   "execution_count": 17,
   "metadata": {},
   "outputs": [
    {
     "data": {
      "text/plain": [
       "array([ 10,  20,  30,  40,  50,  60,  70,  80,  90, 100, 110, 120, 130,\n",
       "       140, 150,   1,   2,   3])"
      ]
     },
     "execution_count": 17,
     "metadata": {},
     "output_type": "execute_result"
    }
   ],
   "source": [
    "import numpy as np\n",
    "i = np.array([\n",
    " [[10, 20, 30], [40, 50, 60]],\n",
    " [[70, 80, 90], [100, 110, 120]],\n",
    " [[130, 140,150],[1,2,3]]\n",
    " ])\n",
    "j = i.reshape(-1)\n"
   ]
  },
  {
   "cell_type": "code",
   "execution_count": 18,
   "metadata": {},
   "outputs": [
    {
     "data": {
      "text/plain": [
       "array([10, 20, 30, 40, 50, 60, 70, 80, 90])"
      ]
     },
     "execution_count": 18,
     "metadata": {},
     "output_type": "execute_result"
    }
   ],
   "source": [
    "import numpy as np\n",
    "i = np.array([[10, 20, 30], [40, 50, 60],[70,80,90]])\n",
    "j = i.reshape(-1)\n",
    "j"
   ]
  },
  {
   "cell_type": "code",
   "execution_count": null,
   "metadata": {},
   "outputs": [],
   "source": []
  },
  {
   "cell_type": "code",
   "execution_count": null,
   "metadata": {},
   "outputs": [],
   "source": []
  }
 ],
 "metadata": {
  "kernelspec": {
   "display_name": "Python 3",
   "language": "python",
   "name": "python3"
  },
  "language_info": {
   "codemirror_mode": {
    "name": "ipython",
    "version": 3
   },
   "file_extension": ".py",
   "mimetype": "text/x-python",
   "name": "python",
   "nbconvert_exporter": "python",
   "pygments_lexer": "ipython3",
   "version": "3.8.5"
  }
 },
 "nbformat": 4,
 "nbformat_minor": 4
}
